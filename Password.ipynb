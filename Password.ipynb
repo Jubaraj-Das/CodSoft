{
 "cells": [
  {
   "cell_type": "code",
   "execution_count": 2,
   "id": "7fe1243c",
   "metadata": {},
   "outputs": [],
   "source": [
    "import tkinter as tk\n",
    "from tkinter import messagebox\n",
    "import random\n",
    "import string\n",
    "\n",
    "def generate_password():\n",
    "    name = name_entry.get()\n",
    "    password_length = int(length_entry.get())\n",
    "    \n",
    "    if password_length < 6:\n",
    "        messagebox.showerror(\"Error\", \"Password length should be at least 6 characters.\")\n",
    "        return\n",
    "\n",
    "    characters = string.ascii_letters + string.digits + string.punctuation\n",
    "    password = ''.join(random.choice(characters) for _ in range(password_length))\n",
    "    \n",
    "    password_entry.delete(0, tk.END)\n",
    "    password_entry.insert(0, password)\n",
    "    \n",
    "def reset_values():\n",
    "    password_entry.delete(0, tk.END)\n",
    "\n",
    "root = tk.Tk()\n",
    "root.title(\"Password Generator\")\n",
    "\n",
    "def accept_values():\n",
    "    messagebox.showinfo(\"Password\", \"This password is asigned to the user\")\n",
    "\n",
    "frame = tk.Frame(root)\n",
    "frame.pack(padx=20, pady=20)\n",
    "\n",
    "name_label = tk.Label(frame, text=\"Your Name:\")\n",
    "name_label.pack()\n",
    "\n",
    "name_entry = tk.Entry(frame)\n",
    "name_entry.pack()\n",
    "\n",
    "length_label = tk.Label(frame, text=\"Password Length:\")\n",
    "length_label.pack()\n",
    "\n",
    "length_entry = tk.Entry(frame)\n",
    "length_entry.pack()\n",
    "\n",
    "generate_button = tk.Button(frame, text=\"Generate Password\", command=generate_password)\n",
    "generate_button.pack()\n",
    "\n",
    "reset_button = tk.Button(frame, text=\"Reset\", command=reset_values)\n",
    "reset_button.pack()\n",
    "\n",
    "accept_button = tk.Button(frame, text=\"Accept\", command=accept_values)\n",
    "accept_button.pack()\n",
    "\n",
    "password_entry = tk.Entry(frame)\n",
    "password_entry.pack()\n",
    "\n",
    "root.mainloop()"
   ]
  },
  {
   "cell_type": "code",
   "execution_count": null,
   "id": "93576145",
   "metadata": {},
   "outputs": [],
   "source": []
  }
 ],
 "metadata": {
  "kernelspec": {
   "display_name": "Python 3 (ipykernel)",
   "language": "python",
   "name": "python3"
  },
  "language_info": {
   "codemirror_mode": {
    "name": "ipython",
    "version": 3
   },
   "file_extension": ".py",
   "mimetype": "text/x-python",
   "name": "python",
   "nbconvert_exporter": "python",
   "pygments_lexer": "ipython3",
   "version": "3.9.7"
  }
 },
 "nbformat": 4,
 "nbformat_minor": 5
}
